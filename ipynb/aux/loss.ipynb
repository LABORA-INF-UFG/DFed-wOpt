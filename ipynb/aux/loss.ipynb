{
 "cells": [
  {
   "cell_type": "code",
   "execution_count": null,
   "id": "5611b9eb-f1b0-4a3b-b00c-25f44083cdd1",
   "metadata": {},
   "outputs": [],
   "source": [
    "fig, ax = plt.subplots(figsize=(6, 3))\n",
    "\n",
    "indices_maior_ou_igual = [next((i for i, valor in enumerate(uploads_1_media_acm) if valor >= x), None) for x in lista_base]\n",
    "nova_lista = [valor for valor in indices_maior_ou_igual if valor is not None]\n",
    "lista_base1_valores = np.array(loss_1_media)[nova_lista]\n",
    "lista_base1_x = lista_base[:len(lista_base1_valores)]\n",
    "ax.plot(lista_base1_x, lista_base1_valores, linestyle = 'solid', color='red', linewidth = 1.2,  label='FedAvg')\n",
    "\n",
    "indices_maior_ou_igual = [next((i for i, valor in enumerate(uploads_2_media_acm) if valor >= x), None) for x in lista_base]\n",
    "nova_lista = [valor for valor in indices_maior_ou_igual if valor is not None]\n",
    "lista_base2_valores = np.array(loss_2_media)[nova_lista]\n",
    "lista_base2_x = lista_base[:len(lista_base2_valores)]\n",
    "ax.plot(lista_base2_x, lista_base2_valores, linestyle = 'solid', color='orange', linewidth = 1.2,  label='POC')\n",
    "\n",
    "indices_maior_ou_igual = [next((i for i, valor in enumerate(uploads_3_media_acm) if valor >= x), None) for x in lista_base]\n",
    "nova_lista = [valor for valor in indices_maior_ou_igual if valor is not None]\n",
    "lista_base3_valores = np.array(loss_3_media)[nova_lista]\n",
    "lista_base3_x = lista_base[:len(lista_base3_valores)]\n",
    "ax.plot(lista_base3_x, lista_base3_valores, linestyle = 'solid', color='magenta', linewidth = 1.2,  label='FedAvg-w$_{Opt}$')\n",
    "\n",
    "indices_maior_ou_igual = [next((i for i, valor in enumerate(uploads_4_media_acm) if valor >= x), None) for x in lista_base]\n",
    "nova_lista = [valor for valor in indices_maior_ou_igual if valor is not None]\n",
    "lista_base4_valores = np.array(loss_4_media)[nova_lista]\n",
    "lista_base4_x = lista_base[:len(lista_base4_valores)]\n",
    "ax.plot(lista_base4_x, lista_base4_valores, linestyle = 'solid', color='green', linewidth = 1.2,  label='POC-w$_{Opt}$')\n",
    "\n",
    "indices_maior_ou_igual = [next((i for i, valor in enumerate(uploads_5_media_acm) if valor >= x), None) for x in lista_base]\n",
    "nova_lista = [valor for valor in indices_maior_ou_igual if valor is not None]\n",
    "lista_base5_valores = np.array(loss_5_media)[nova_lista]\n",
    "lista_base5_x = lista_base[:len(lista_base5_valores)]\n",
    "ax.plot(lista_base5_x, lista_base5_valores, linestyle = 'solid', color='blue', linewidth = 1.2,  label='DFed-w$_{Opt}$')\n",
    "\n",
    "ax.tick_params(axis='y')\n",
    "plt.xlabel('Transmissão de Modelos Locais', color='#000000', fontsize=16)\n",
    "plt.ylabel('f$(w_{global})$', color='#000000', fontsize=16)\n",
    "plt.tick_params(axis='both', labelsize=11)\n",
    "plt.rcParams['legend.fontsize'] = 14\n",
    "\n",
    "legend = ax.legend(loc='upper right', framealpha=0.4)\n",
    "ax.set_ylim(auto=True)\n",
    "ax.set_ylim(0, 3)\n",
    "\n",
    "plt.show()\n"
   ]
  }
 ],
 "metadata": {
  "kernelspec": {
   "display_name": "Python 3 (ipykernel)",
   "language": "python",
   "name": "python3"
  },
  "language_info": {
   "codemirror_mode": {
    "name": "ipython",
    "version": 3
   },
   "file_extension": ".py",
   "mimetype": "text/x-python",
   "name": "python",
   "nbconvert_exporter": "python",
   "pygments_lexer": "ipython3",
   "version": "3.11.5"
  }
 },
 "nbformat": 4,
 "nbformat_minor": 5
}
