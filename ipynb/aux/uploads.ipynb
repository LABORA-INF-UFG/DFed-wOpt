{
 "cells": [
  {
   "cell_type": "code",
   "execution_count": null,
   "id": "75700e63-c2da-4cf2-b6eb-c12573802e84",
   "metadata": {},
   "outputs": [],
   "source": [
    "fig, ax = plt.subplots(figsize=(6, 3))\n",
    "\n",
    "categorias = ['FedAvg', 'POC', 'FedAvg-w$_{Opt}$', 'POC-w$_{Opt}$', 'DFed-w$_{Opt}$']\n",
    "largura_barra = 0.8\n",
    "valores = [np.sum(uploads_1_media), np.sum(uploads_2_media), np.sum(uploads_3_media), np.sum(uploads_4_media), np.sum(uploads_5_media)]\n",
    "\n",
    "cores = ['red', 'orange', '#EC75D1', 'green', 'blue']\n",
    "barras = plt.bar(categorias, valores, color=cores, edgecolor='white', alpha=0.6, linewidth=3, width=largura_barra)\n",
    "\n",
    "plt.xlabel('Algoritmos de FL', fontsize=16)\n",
    "plt.ylabel('Total de \\n Transmissões', fontsize=16)\n",
    "plt.tick_params(axis='both', labelsize=11)\n",
    "plt.tick_params(axis='x', which='both', bottom=False, top=False, labelbottom=False)\n",
    "plt.tick_params(axis='x', labelsize=16)\n",
    "ax.set_ylim(0, 1600)\n",
    "legenda = plt.legend(barras, categorias, title_fontsize='14', loc='upper left', framealpha=0.4)\n",
    "plt.setp(legenda.get_texts(), fontsize='14')\n",
    "plt.show()"
   ]
  }
 ],
 "metadata": {
  "kernelspec": {
   "display_name": "Python 3 (ipykernel)",
   "language": "python",
   "name": "python3"
  },
  "language_info": {
   "codemirror_mode": {
    "name": "ipython",
    "version": 3
   },
   "file_extension": ".py",
   "mimetype": "text/x-python",
   "name": "python",
   "nbconvert_exporter": "python",
   "pygments_lexer": "ipython3",
   "version": "3.11.5"
  }
 },
 "nbformat": 4,
 "nbformat_minor": 5
}
