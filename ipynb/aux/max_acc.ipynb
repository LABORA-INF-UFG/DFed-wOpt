{
 "cells": [
  {
   "cell_type": "code",
   "execution_count": null,
   "id": "034eb3cf-4b8c-4958-9e52-5c1883da7b12",
   "metadata": {},
   "outputs": [],
   "source": [
    "print(f\"{max(acc_1_media)} >> {(max(acc_5_media) - max(acc_1_media))*100}\")\n",
    "print(f\"{max(acc_2_media)} >> {(max(acc_5_media) - max(acc_2_media))*100}\")\n",
    "print(f\"{max(acc_3_media)} >> {(max(acc_5_media) - max(acc_3_media))*100}\")\n",
    "print(f\"{max(acc_4_media)} >> {(max(acc_5_media) - max(acc_4_media))*100}\")\n",
    "print(f\"{max(acc_5_media)}\")"
   ]
  }
 ],
 "metadata": {
  "kernelspec": {
   "display_name": "Python 3 (ipykernel)",
   "language": "python",
   "name": "python3"
  },
  "language_info": {
   "codemirror_mode": {
    "name": "ipython",
    "version": 3
   },
   "file_extension": ".py",
   "mimetype": "text/x-python",
   "name": "python",
   "nbconvert_exporter": "python",
   "pygments_lexer": "ipython3",
   "version": "3.11.5"
  }
 },
 "nbformat": 4,
 "nbformat_minor": 5
}
