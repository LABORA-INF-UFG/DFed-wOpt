{
 "cells": [
  {
   "cell_type": "code",
   "execution_count": null,
   "id": "7c82ea12-aef2-46f1-b225-ebf7914430c0",
   "metadata": {},
   "outputs": [],
   "source": [
    "fig, ax = plt.subplots(figsize=(6, 3))\n",
    "\n",
    "def formatar_potencia(valor, pos):\n",
    "    return fr\"${valor/10000:.1f}$\"\n",
    "\n",
    "offset = 1\n",
    "lista_acm_1 = (np.array(energy_2_media)*10000+offset)\n",
    "lista_acm_2 = (np.array(energy_1_media)*10000+offset)\n",
    "lista_acm_3 = (np.array(energy_4_media)*10000+offset)\n",
    "lista_acm_4 = (np.array(energy_3_media)*10000+offset)\n",
    "lista_acm_5 = (np.array(energy_5_media)*10000+offset)\n",
    "\n",
    "diferencas_acm_2 = [b - a for a, b in zip(lista_acm_1, lista_acm_2)]\n",
    "diferencas_acm_3 = [b - a for a, b in zip(lista_acm_2, lista_acm_3)]\n",
    "diferencas_acm_4 = [b - a for a, b in zip(lista_acm_3, lista_acm_4)]\n",
    "diferencas_acm_5 = [b - a for a, b in zip(lista_acm_4, lista_acm_5)]\n",
    "\n",
    "plt.stackplot(range(1, 201), lista_acm_1, diferencas_acm_2, diferencas_acm_3, diferencas_acm_4, diferencas_acm_5,\n",
    "              labels=['POC', 'FedAvg', 'POC-w$_{Opt}$', 'FedAvg-w$_{Opt}$', 'DFed-w$_{Opt}$'],\n",
    "              colors=['orange', 'red', 'green', '#EC75D1', 'blue'],\n",
    "              alpha=0.6,\n",
    "              linewidth=3,\n",
    "              edgecolor='white')\n",
    "\n",
    "plt.yscale('linear')\n",
    "ax.yaxis.set_major_formatter(FuncFormatter(formatar_potencia))\n",
    "\n",
    "plt.xlabel('Rodadas de Comunicação', color='#000000', fontsize=16)\n",
    "plt.ylabel('Custo Energético \\n dos Dispositivos \\n $_{(\\\\ Joules \\\\ x \\\\ 10^4) \\\\ }$', color='#000000', fontsize=16)\n",
    "plt.tick_params(axis='both', labelsize=11)\n",
    "plt.rcParams['legend.fontsize'] = 14\n",
    "ax.set_ylim(0, 50000)\n",
    "\n",
    "handles, labels = plt.gca().get_legend_handles_labels()\n",
    "legend_order = [1,0,3,2,4]\n",
    "plt.legend([handles[i] for i in legend_order], [labels[i] for i in legend_order], bbox_to_anchor=(0.46, 0.95), framealpha=0.4)\n",
    "\n",
    "print(max(np.array(energy_1_media)))\n",
    "print(max(np.array(energy_2_media)))\n",
    "print(max(np.array(energy_3_media)))\n",
    "print(max(np.array(energy_4_media)))\n",
    "print(max(np.array(energy_5_media)))\n",
    "# Exibir o gráfico\n",
    "plt.show()"
   ]
  }
 ],
 "metadata": {
  "kernelspec": {
   "display_name": "Python 3 (ipykernel)",
   "language": "python",
   "name": "python3"
  },
  "language_info": {
   "codemirror_mode": {
    "name": "ipython",
    "version": 3
   },
   "file_extension": ".py",
   "mimetype": "text/x-python",
   "name": "python",
   "nbconvert_exporter": "python",
   "pygments_lexer": "ipython3",
   "version": "3.11.5"
  }
 },
 "nbformat": 4,
 "nbformat_minor": 5
}
