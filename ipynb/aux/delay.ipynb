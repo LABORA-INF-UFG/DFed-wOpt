{
 "cells": [
  {
   "cell_type": "code",
   "execution_count": null,
   "id": "331efbd0-1235-4fd5-98e4-f087c5c60445",
   "metadata": {},
   "outputs": [],
   "source": [
    "fig, ax = plt.subplots(figsize=(6, 3))\n",
    "\n",
    "def format_y_ticks(y, _):\n",
    "    return f'{y:.2f}'\n",
    "\n",
    "ax.plot(list(range(1, 201)), delay_1_media, linestyle='solid', color='red', linewidth=1, label='FedAvg')\n",
    "ax.plot(list(range(1, 201)), delay_2_media, linestyle='solid', color='orange', linewidth=1, label='POC')\n",
    "ax.plot(list(range(1, 201)), delay_3_media, linestyle='solid', color='magenta', linewidth=1, label='FedAvg-w$_{Opt}$')\n",
    "ax.plot(list(range(1, 201)), delay_4_media, linestyle='solid', color='green', linewidth=1, label='POC-w$_{Opt}$')\n",
    "ax.plot(list(range(1, 201)), delay_5_media, linestyle='solid', color='blue', linewidth=1, label='DFed-w$_{Opt}$')\n",
    "\n",
    "ax.tick_params(axis='y')\n",
    "plt.xlabel('Rodadas de Comunicação', color='#000000', fontsize=16)\n",
    "plt.ylabel('Soma dos Tempos de \\n Ocupação dos RBs \\n $_{(segundos)}$', color='#000000', fontsize=16)\n",
    "plt.tick_params(axis='both', labelsize=11)\n",
    "plt.rcParams['legend.fontsize'] = 14\n",
    "\n",
    "#ax.set_ylim(0, 3)\n",
    "\n",
    "ax.yaxis.set_major_formatter(FuncFormatter(format_y_ticks))\n",
    "legend = ax.legend(loc='lower center', ncol=2, framealpha=0.4, bbox_to_anchor=(0.5, 0.15))\n",
    "# legend = ax.legend(loc='lower left', framealpha=0.4)\n",
    "plt.show()"
   ]
  }
 ],
 "metadata": {
  "kernelspec": {
   "display_name": "Python 3 (ipykernel)",
   "language": "python",
   "name": "python3"
  },
  "language_info": {
   "codemirror_mode": {
    "name": "ipython",
    "version": 3
   },
   "file_extension": ".py",
   "mimetype": "text/x-python",
   "name": "python",
   "nbconvert_exporter": "python",
   "pygments_lexer": "ipython3",
   "version": "3.11.5"
  }
 },
 "nbformat": 4,
 "nbformat_minor": 5
}
